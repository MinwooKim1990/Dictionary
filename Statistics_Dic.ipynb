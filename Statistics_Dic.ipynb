{
 "cells": [
  {
   "cell_type": "markdown",
   "id": "71057210-005d-446b-8a1b-be7edc48b109",
   "metadata": {},
   "source": [
    "# 1. Mean (Average, Expectation)\n",
    "\n",
    "$$\\displaystyle {\\bar {x}}={\\frac {1}{n}}\\left(\\sum _{i=1}^{n}{x_{i}}\\right)={\\frac {x_{1}+x_{2}+\\cdots +x_{n}}{n}}$$\n",
    "$$\\mu \\equiv \\operatorname {E} [X]=\\int _{-\\infty }^{+\\infty }xf(x)\\,\\mathrm {d} x$$\n",
    "<img src=\"img/Visualisation_mode_median_mean.svg.png\" alt=\"drawing\" width=\"200\"/>"
   ]
  },
  {
   "cell_type": "code",
   "execution_count": 2,
   "id": "b465f5f5-e3c2-4329-9ee1-22aa23ef6dd7",
   "metadata": {},
   "outputs": [
    {
     "name": "stdout",
     "output_type": "stream",
     "text": [
      "functional: 3.5 arithmatic: 3.5\n"
     ]
    }
   ],
   "source": [
    "import numpy as np\n",
    "a=[1,2,3,4,5,6]\n",
    "print('functional:', np.mean(a),'arithmatic:', sum(a)/len(a))"
   ]
  },
  {
   "cell_type": "markdown",
   "id": "52b0524a-7a31-4c5d-8ec9-9db3cb27e3c3",
   "metadata": {},
   "source": [
    "# 2. Median\n",
    "the median is the value separating the higher half from the lower half of a data sample, a population, or a probability distribution.\n",
    "\n",
    "\n",
    "If $n$ is odd, $Median(x)=x_{(n+1)/2}$\n",
    "\n",
    "If $n$ is even, $Median(x)={\\frac {x_{(n/2)}+x_{((n/2)+1)}}{2}}$"
   ]
  },
  {
   "cell_type": "code",
   "execution_count": 7,
   "id": "6cc595ea-44e9-4482-b342-f7f281bb9d6b",
   "metadata": {},
   "outputs": [
    {
     "name": "stdout",
     "output_type": "stream",
     "text": [
      "functional: 3.5 arithmatic: 3.5\n"
     ]
    }
   ],
   "source": [
    "import numpy as np\n",
    "a=[1,2,3,4,5,6]\n",
    "def ari_medi(a):\n",
    "    if len(a)%2==0 : \n",
    "        res=(a[int(len(a)/2-1)]+a[int(len(a)/2)])/2 \n",
    "    else : \n",
    "        res=a[int((len(a)+1)/2 +1)]\n",
    "    return res\n",
    "print('functional:', np.median(a),'arithmatic:', ari_medi(a))"
   ]
  },
  {
   "cell_type": "markdown",
   "id": "f8006144-3857-4941-b2a6-87f0a9f329b7",
   "metadata": {},
   "source": [
    "# 3. Mode\n",
    "The mode is the value that appears most often in a set of data values."
   ]
  },
  {
   "cell_type": "code",
   "execution_count": 12,
   "id": "e468e8a3-833b-472c-82dc-ff122b9065d6",
   "metadata": {},
   "outputs": [
    {
     "name": "stdout",
     "output_type": "stream",
     "text": [
      "Statistics mode: 4 Counting mode: [('banana', 3)]\n"
     ]
    }
   ],
   "source": [
    "import statistics\n",
    "from collections import Counter\n",
    "numbers = [1, 2, 3, 3, 4, 4, 4, 5, 6]  # Create a lists\n",
    "values = [\"apple\", \"banana\", \"apple\", \"orange\", \"banana\", \"banana\"]\n",
    "mode1 = statistics.mode(numbers) # Find the mode of the list\n",
    "mode2 = Counter(values).most_common(1)\n",
    "print('Statistics mode:', mode1, 'Counting mode:', mode2)"
   ]
  },
  {
   "cell_type": "markdown",
   "id": "b2c3e980-bb85-4ae6-ae07-efc9fa2937d8",
   "metadata": {},
   "source": [
    "# 4. Variance and Standard Deviation\n",
    "### Variance \n",
    "is the expectation of the squared deviation of a random variable from its population mean or sample mean.\n",
    "\n",
    "<img src=\"img/Variance.png\" alt=\"drawing\" width=\"50%\"/>\n",
    "\n",
    "2, 4, 4, 4, 5, 5, 7, 9\n",
    "\n",
    "These eight data points have the mean (average) of 5:\n",
    "\n",
    "$\\mu ={\\frac {2+4+4+4+5+5+7+9}{8}}={\\frac {40}{8}}=5.$\n",
    "\n",
    "First, calculate the deviations of each data point from the mean, and square the result of each:\n",
    "\n",
    "${\\begin{array}{lll}(2-5)^{2}=(-3)^{2}=9 &&(5-5)^{2}=0^{2}=0\\\\(4-5)^{2}=(-1)^{2}=1 &&(5-5)^{2}=0^{2}=0\\\\(4-5)^{2}=(-1)^{2}=1 &&(7-5)^{2}=2^{2}=4\\\\(4-5)^{2}=(-1)^{2}=1 &&(9-5)^{2}=4^{2}=16.\\\\\\end{array}}$\n",
    "\n",
    "The variance is the mean of these values:\n",
    "\n",
    "$\\sigma ^{2} \\equiv {\\operatorname {E} \\left[(X-\\mu )^{2}\\right]}={\\int _{-\\infty }^{+\\infty }(x-\\mu )^{2}f(x)\\,\\mathrm {d} x}={ \\operatorname {E} \\left[X^{2}\\right]-(\\operatorname {E} [X])^{2}}$\n",
    "\n",
    "$\\sigma ^{2}={\\frac {9+1+1+1+0+0+4+16}{8}}={\\frac {32}{8}}=4$\n",
    "\n",
    "### Standard deviation\n",
    "is a measure of the amount of variation or dispersion of a set of values.\n",
    "\n",
    "<img src=\"img/SD.png\" alt=\"drawing\" width=\"50%\"/>\n",
    "\n",
    "the population standard deviation is equal to the square root of the variance:\n",
    "\n",
    "$\\sigma \\equiv {\\sqrt {\\operatorname {E} \\left[(X-\\mu )^{2}\\right]}}={\\sqrt {\\int _{-\\infty }^{+\\infty }(x-\\mu )^{2}f(x)\\,\\mathrm {d} x}}={\\sqrt {\\operatorname {E} \\left[X^{2}\\right]-(\\operatorname {E} [X])^{2}}}$\n",
    "\n",
    "$\\sigma ={\\sqrt {4}}=2$"
   ]
  },
  {
   "cell_type": "code",
   "execution_count": 18,
   "id": "644b346b-04a0-4bf3-9e83-0f83b229a5fe",
   "metadata": {},
   "outputs": [
    {
     "name": "stdout",
     "output_type": "stream",
     "text": [
      "Variance functional: 4.0 Variance arithmatic: 4.0\n",
      "Standard Deviation functional: 2.0 Standard Deviation arithmatic: 2.0\n"
     ]
    }
   ],
   "source": [
    "import numpy as np\n",
    "a=[2, 4, 4, 4, 5, 5, 7, 9]\n",
    "def Var(a):\n",
    "    return sum((a-np.mean(a))**2)/len(a)\n",
    "def STD(a):\n",
    "    return np.sqrt(sum((a-np.mean(a))**2)/len(a))\n",
    "print('Variance functional:', np.var(a),'Variance arithmatic:', Var(a))\n",
    "print('Standard Deviation functional:', np.std(a),'Standard Deviation arithmatic:', STD(a))"
   ]
  },
  {
   "cell_type": "markdown",
   "id": "735d5ce0-867a-4412-859f-a4ab42b7889f",
   "metadata": {},
   "source": [
    "# 5. Standard Error\n",
    "\n",
    "Standard deviation of its sampling distribution or an estimate of that standard deviation.\n",
    "\n",
    "$\\sigma _{\\bar {x}}={\\sqrt {\\frac {\\sigma ^{2}}{n}}}={\\frac {\\sigma }{\\sqrt {n}}}$\n",
    "\n",
    "$\\operatorname {Standard~Error} ({\\bar {X}})={\\sqrt {\\frac {S_{X}^{2}+{\\bar {X}}^{2}}{n}}}$"
   ]
  },
  {
   "cell_type": "code",
   "execution_count": 23,
   "id": "eecadaa5-b90b-4c2f-aa8e-1a2c9bc36dc0",
   "metadata": {},
   "outputs": [
    {
     "name": "stdout",
     "output_type": "stream",
     "text": [
      "functional: 0.7559289460184544 arithmatic1: 0.7071067811865475 arithmatic2: 0.7559289460184544\n"
     ]
    }
   ],
   "source": [
    "import numpy as np\n",
    "from scipy import stats\n",
    "import statistics as sta\n",
    "import math\n",
    "a=[2, 4, 4, 4, 5, 5, 7, 9]\n",
    "def SE1(a):\n",
    "    return np.std(a)/np.sqrt(len(a))\n",
    "def SE2(a):\n",
    "    return sta.stdev(a)/math.sqrt(len(a))\n",
    "print('functional:', stats.sem(a),'arithmatic1:', SE1(a), 'arithmatic2:', SE2(a))" "# While the standard error of the mean is commonly used when working with the means of samples, the standard deviation of the sample is often used when working with the observations in a sample directly. Both are measures of the variability of the data, but they are calculated differently and therefore will have different values."
   ]
  },
  {
   "cell_type": "code",
   "execution_count": null,
   "id": "e7c72fb1-d807-4d40-949d-001a985b1075",
   "metadata": {},
   "outputs": [],
   "source": []
  }
 ],
 "metadata": {
  "kernelspec": {
   "display_name": "tensor2",
   "language": "python",
   "name": "tensor2"
  },
  "language_info": {
   "codemirror_mode": {
    "name": "ipython",
    "version": 3
   },
   "file_extension": ".py",
   "mimetype": "text/x-python",
   "name": "python",
   "nbconvert_exporter": "python",
   "pygments_lexer": "ipython3",
   "version": "3.8.15"
  }
 },
 "nbformat": 4,
 "nbformat_minor": 5
}
