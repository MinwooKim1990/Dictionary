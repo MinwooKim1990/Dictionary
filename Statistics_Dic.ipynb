{
 "cells": [
  {
   "cell_type": "markdown",
   "id": "71057210-005d-446b-8a1b-be7edc48b109",
   "metadata": {},
   "source": [
    "# 1. Mean (Average, Expectation)\n",
    "\n",
    "$$\\displaystyle {\\bar {x}}={\\frac {1}{n}}\\left(\\sum _{i=1}^{n}{x_{i}}\\right)={\\frac {x_{1}+x_{2}+\\cdots +x_{n}}{n}}$$\n",
    "$$\\mu \\equiv \\operatorname {E} [X]=\\int _{-\\infty }^{+\\infty }xf(x)\\,\\mathrm {d} x$$\n",
    "<img src=\"img/Visualisation_mode_median_mean.svg.png\" alt=\"drawing\" width=\"200\"/>"
   ]
  },
  {
   "cell_type": "code",
   "execution_count": 2,
   "id": "b465f5f5-e3c2-4329-9ee1-22aa23ef6dd7",
   "metadata": {},
   "outputs": [
    {
     "name": "stdout",
     "output_type": "stream",
     "text": [
      "functional: 3.5 arithmatic: 3.5\n"
     ]
    }
   ],
   "source": [
    "import numpy as np\n",
    "a=[1,2,3,4,5,6]\n",
    "print('functional:', np.mean(a),'arithmatic:', sum(a)/len(a))"
   ]
  },
  {
   "cell_type": "markdown",
   "id": "52b0524a-7a31-4c5d-8ec9-9db3cb27e3c3",
   "metadata": {},
   "source": [
    "# 2. Median\n",
    "the median is the value separating the higher half from the lower half of a data sample, a population, or a probability distribution.\n",
    "\n",
    "\n",
    "If $n$ is odd, $Median(x)=x_{(n+1)/2}$\n",
    "\n",
    "If $n$ is even, $Median(x)={\\frac {x_{(n/2)}+x_{((n/2)+1)}}{2}}$"
   ]
  },
  {
   "cell_type": "code",
   "execution_count": 7,
   "id": "6cc595ea-44e9-4482-b342-f7f281bb9d6b",
   "metadata": {},
   "outputs": [
    {
     "name": "stdout",
     "output_type": "stream",
     "text": [
      "functional: 3.5 arithmatic: 3.5\n"
     ]
    }
   ],
   "source": [
    "import numpy as np\n",
    "a=[1,2,3,4,5,6]\n",
    "def ari_medi(a):\n",
    "    if len(a)%2==0 : \n",
    "        res=(a[int(len(a)/2-1)]+a[int(len(a)/2)])/2 \n",
    "    else : \n",
    "        res=a[int((len(a)+1)/2 +1)]\n",
    "    return res\n",
    "print('functional:', np.median(a),'arithmatic:', ari_medi(a))"
   ]
  },
  {
   "cell_type": "markdown",
   "id": "f8006144-3857-4941-b2a6-87f0a9f329b7",
   "metadata": {},
   "source": [
    "# 3. Mode\n",
    "The mode is the value that appears most often in a set of data values."
   ]
  },
  {
   "cell_type": "code",
   "execution_count": 12,
   "id": "e468e8a3-833b-472c-82dc-ff122b9065d6",
   "metadata": {},
   "outputs": [
    {
     "name": "stdout",
     "output_type": "stream",
     "text": [
      "Statistics mode: 4 Counting mode: [('banana', 3)]\n"
     ]
    }
   ],
   "source": [
    "import statistics\n",
    "from collections import Counter\n",
    "numbers = [1, 2, 3, 3, 4, 4, 4, 5, 6]  # Create a lists\n",
    "values = [\"apple\", \"banana\", \"apple\", \"orange\", \"banana\", \"banana\"]\n",
    "mode1 = statistics.mode(numbers) # Find the mode of the list\n",
    "mode2 = Counter(values).most_common(1)\n",
    "print('Statistics mode:', mode1, 'Counting mode:', mode2)"
   ]
  },
  {
   "cell_type": "markdown",
   "id": "b2c3e980-bb85-4ae6-ae07-efc9fa2937d8",
   "metadata": {},
   "source": [
    "# 4. Variance and Standard Deviation\n",
    "### Variance \n",
    "is the expectation of the squared deviation of a random variable from its population mean or sample mean.\n",
    "\n",
    "<img src=\"img/Variance.png\" alt=\"drawing\" width=\"50%\"/>\n",
    "\n",
    "2, 4, 4, 4, 5, 5, 7, 9\n",
    "\n",
    "These eight data points have the mean (average) of 5:\n",
    "\n",
    "$\\mu ={\\frac {2+4+4+4+5+5+7+9}{8}}={\\frac {40}{8}}=5.$\n",
    "\n",
    "First, calculate the deviations of each data point from the mean, and square the result of each:\n",
    "\n",
    "${\\begin{array}{lll}(2-5)^{2}=(-3)^{2}=9 &&(5-5)^{2}=0^{2}=0\\\\(4-5)^{2}=(-1)^{2}=1 &&(5-5)^{2}=0^{2}=0\\\\(4-5)^{2}=(-1)^{2}=1 &&(7-5)^{2}=2^{2}=4\\\\(4-5)^{2}=(-1)^{2}=1 &&(9-5)^{2}=4^{2}=16.\\\\\\end{array}}$\n",
    "\n",
    "The variance is the mean of these values:\n",
    "\n",
    "$\\sigma ^{2} \\equiv {\\operatorname {E} \\left[(X-\\mu )^{2}\\right]}={\\int _{-\\infty }^{+\\infty }(x-\\mu )^{2}f(x)\\,\\mathrm {d} x}={ \\operatorname {E} \\left[X^{2}\\right]-(\\operatorname {E} [X])^{2}}$\n",
    "\n",
    "$\\sigma ^{2}={\\frac {9+1+1+1+0+0+4+16}{8}}={\\frac {32}{8}}=4$\n",
    "\n",
    "### Standard deviation\n",
    "is a measure of the amount of variation or dispersion of a set of values.\n",
    "\n",
    "<img src=\"img/SD.png\" alt=\"drawing\" width=\"50%\"/>\n",
    "\n",
    "the population standard deviation is equal to the square root of the variance:\n",
    "\n",
    "$\\sigma \\equiv {\\sqrt {\\operatorname {E} \\left[(X-\\mu )^{2}\\right]}}={\\sqrt {\\int _{-\\infty }^{+\\infty }(x-\\mu )^{2}f(x)\\,\\mathrm {d} x}}={\\sqrt {\\operatorname {E} \\left[X^{2}\\right]-(\\operatorname {E} [X])^{2}}}$\n",
    "\n",
    "$\\sigma ={\\sqrt {4}}=2$"
   ]
  },
  {
   "cell_type": "code",
   "execution_count": 18,
   "id": "644b346b-04a0-4bf3-9e83-0f83b229a5fe",
   "metadata": {},
   "outputs": [
    {
     "name": "stdout",
     "output_type": "stream",
     "text": [
      "Variance functional: 4.0 Variance arithmatic: 4.0\n",
      "Standard Deviation functional: 2.0 Standard Deviation arithmatic: 2.0\n"
     ]
    }
   ],
   "source": [
    "import numpy as np\n",
    "a=[2, 4, 4, 4, 5, 5, 7, 9]\n",
    "def Var(a):\n",
    "    return sum((a-np.mean(a))**2)/len(a)\n",
    "def STD(a):\n",
    "    return np.sqrt(sum((a-np.mean(a))**2)/len(a))\n",
    "print('Variance functional:', np.var(a),'Variance arithmatic:', Var(a))\n",
    "print('Standard Deviation functional:', np.std(a),'Standard Deviation arithmatic:', STD(a))"
   ]
  },
  {
   "cell_type": "markdown",
   "id": "735d5ce0-867a-4412-859f-a4ab42b7889f",
   "metadata": {},
   "source": [
    "# 5. Standard Error\n",
    "\n",
    "Standard deviation of its sampling distribution or an estimate of that standard deviation.\n",
    "\n",
    "$\\sigma _{\\bar {x}}={\\sqrt {\\frac {\\sigma ^{2}}{n}}}={\\frac {\\sigma }{\\sqrt {n}}}$\n",
    "\n",
    "$\\operatorname {Standard~Error} ({\\bar {X}})={\\sqrt {\\frac {S_{X}^{2}+{\\bar {X}}^{2}}{n}}}$"
   ]
  },
  {
   "cell_type": "code",
   "execution_count": 23,
   "id": "eecadaa5-b90b-4c2f-aa8e-1a2c9bc36dc0",
   "metadata": {},
   "outputs": [
    {
     "name": "stdout",
     "output_type": "stream",
     "text": [
      "functional: 0.7559289460184544 arithmatic1: 0.7071067811865475 arithmatic2: 0.7559289460184544\n"
     ]
    }
   ],
   "source": [
    "import numpy as np\n",
    "from scipy import stats\n",
    "import statistics as sta\n",
    "import math\n",
    "a=[2, 4, 4, 4, 5, 5, 7, 9]\n",
    "def SE1(a):\n",
    "    return np.std(a)/np.sqrt(len(a))\n",
    "def SE2(a):\n",
    "    return sta.stdev(a)/math.sqrt(len(a))\n",
    "print('functional:', stats.sem(a),'arithmatic1:', SE1(a), 'arithmatic2:', SE2(a))"
   ]
  },
  {
   "cell_type": "markdown",
   "id": "4194624d-7aad-47bb-b260-8739ef9309b1",
   "metadata": {},
   "source": [
    "# 6. Significant figures and Confident interval\n",
    "\n",
    "The following digits are NOT significant figures.\n",
    "\n",
    "1. All leading zeros. For example, 013 kg has two significant figures, 1 and 3, and the leading zero is not significant since it is not necessary to indicate the mass; 013 kg = 13 kg so 0 is not necessary. In the case of 0.056 m there are two insignificant leading zeros since 0.056 m = 56 mm and so the leading zeros are not necessary to indicate the length.\n",
    "\n",
    "2. Trailing zeros when they are merely placeholders. For example, the trailing zeros in 1500 m as a length measurement are not significant if they are just placeholders for ones and tens places as the measurement resolution is 100 m. In this case, 1500 m means the length to measure is close to 1500 m rather than saying that the length is exactly 1500 m.\n",
    "\n",
    "3. Spurious digits, introduced by calculations resulting in a number with a greater precision than the precision of the used data in the calculations, or in a measurement reported to a greater precision than the measurement resolution.\n",
    "\n",
    "Confidence interval (CI) is a range of estimates for an unknown parameter.\n",
    "\n",
    "(sample mean - (t-critical value * standard error of the mean)) < population mean < (sample mean + (t-critical value * standard error of the mean))"
   ]
  },
  {
   "cell_type": "code",
   "execution_count": 48,
   "id": "e2f0ee7f-6c72-480a-b4d7-b36ff9e2c92c",
   "metadata": {},
   "outputs": [
    {
     "name": "stdout",
     "output_type": "stream",
     "text": [
      "95% Confidence interval: [3.445, 7.555]\n"
     ]
    }
   ],
   "source": [
    "import numpy as np\n",
    "from scipy.stats import t\n",
    "data = [1, 2, 3, 4, 5, 6, 7, 8, 9, 10] # Sample data\n",
    "mean = np.mean(data) # Sample mean\n",
    "std = np.std(data) # Sample standard deviation\n",
    "df = len(data) - 1 # Degrees of freedom\n",
    "critical_value = t.ppf(0.975, df) # Critical value for 95% confidence interval\n",
    "se = std / np.sqrt(len(data)) # Standard error of the mean\n",
    "lower_bound = mean - critical_value * se # Lower and upper bounds of the confidence interval\n",
    "upper_bound = mean + critical_value * se\n",
    "print(\"95% Confidence interval: [{:.3f}, {:.3f}]\".format(lower_bound, upper_bound))\n",
    "\n"
   ]
  },
  {
   "cell_type": "markdown",
   "id": "796e2d38-1e42-40ab-b1d3-a83e85fcd9e4",
   "metadata": {},
   "source": [
    "# 7. Outlier, Gaussian Distribution (Normal Distribution) and Poisson Distribution\n",
    "\n",
    "- Outlier is a data point that differs significantly from other observations.\n",
    "\n",
    "- normal distribution or Gaussian distribution is a type of continuous probability distribution for a real-valued random variable.\n",
    "\n",
    "General form of probability density function\n",
    "\n",
    "${\\displaystyle f(x)={\\frac {1}{\\sigma {\\sqrt {2\\pi }}}}e^{-{\\frac {1}{2}}\\left({\\frac {x-\\mu }{\\sigma }}\\right)^{2}}}$\n",
    "\n",
    "Cumulative Distribution Function\n",
    "\n",
    "${\\displaystyle {\\frac {1}{2}}\\left[1+\\operatorname {erf} \\left({\\frac {x-\\mu }{\\sigma {\\sqrt {2}}}}\\right)\\right]}$\n",
    "\n",
    "- Poisson distribution is a discrete probability distribution that expresses the probability of a given number of events occurring in a fixed interval of time or space if these events occur with a known constant mean rate and independently of the time since the last event.\n",
    "\n",
    "Probability Mass Function\n",
    "\n",
    "${\\displaystyle f(k;\\lambda )=\\Pr(X{=}k)={\\frac {\\lambda ^{k}e^{-\\lambda }}{k!}}}$\n",
    "\n",
    "$k$ is the number of occurrences ($k$=0,1,2,...)\n",
    "\n",
    "$ {\\displaystyle \\lambda =\\operatorname {E} (X)=\\operatorname {Var} (X)}$\n",
    "\n",
    "Cumulative Distribution Function\n",
    "\n",
    "${\\displaystyle {\\frac {\\Gamma (\\lfloor k+1\\rfloor ,\\lambda )}{\\lfloor k\\rfloor !}},}$ or $  {\\displaystyle e^{-\\lambda }\\sum _{j=0}^{\\lfloor k\\rfloor }{\\frac {\\lambda ^{j}}{j!}},}{\\displaystyle e^{-\\lambda }\\sum _{j=0}^{\\lfloor k\\rfloor }{\\frac {\\lambda ^{j}}{j!}},}$ or $ {\\displaystyle Q(\\lfloor k+1\\rfloor ,\\lambda )}$"
   ]
  },
  {
   "cell_type": "code",
   "execution_count": 76,
   "id": "d89ed76a-6faf-4121-95d6-5a52e543fb92",
   "metadata": {},
   "outputs": [
    {
     "data": {
      "image/png": "[encoded data removed]",
      "text/plain": [
       "<Figure size 640x480 with 1 Axes>"
      ]
     },
     "metadata": {},
     "output_type": "display_data"
    },
    {
     "data": {
      "image/png": "[encoded data removed]",
      "text/plain": [
       "<Figure size 640x480 with 2 Axes>"
      ]
     },
     "metadata": {},
     "output_type": "display_data"
    }
   ],
   "source": [
    "import numpy as np\n",
    "import matplotlib.pyplot as plt\n",
    "from scipy.stats import norm, poisson\n",
    "data = np.random.normal(5, 2, 100) # Generate random data\n",
    "data = np.append(data,[20]) # Add an outlier\n",
    "plt.title('Boxplot and Outlier in range of 5% to 95%')\n",
    "plt.boxplot(data, whis=[5,95]) # Create a boxplot outliers outside of range 5% ~95%\n",
    "plt.show()\n",
    "\n",
    "mu = 0\n",
    "sigma = 3\n",
    "x_gaussian = np.linspace(-30, 30, 500)\n",
    "pdf_gaussian = norm.pdf(x_gaussian, mu, sigma) # Gaussian distribution\n",
    "cdf_gaussian = norm.cdf(x_gaussian, mu, sigma) # Gaussian distribution\n",
    "lambda_poisson = 6\n",
    "x_poisson = np.arange(-2, 30)\n",
    "pmf_poisson = poisson.pmf(x_poisson, lambda_poisson) # Poisson distribution\n",
    "cdf_poisson = poisson.cdf(x_poisson, lambda_poisson) # Poisson distribution\n",
    "plt.subplot(121)\n",
    "plt.plot(x_gaussian, pdf_gaussian, 'r-', lw=2, label='pdf')\n",
    "plt.plot(x_gaussian, cdf_gaussian, 'g-', lw=2, label='cdf')\n",
    "plt.title('Gaussian Distribution')\n",
    "plt.legend()\n",
    "plt.subplot(122)\n",
    "plt.stem(x_poisson, pmf_poisson, 'r', label='pmf')\n",
    "plt.plot(x_poisson, cdf_poisson, 'g-', lw=2, label='cdf')\n",
    "plt.title('Poisson Distribution')\n",
    "plt.legend()\n",
    "plt.show()"
   ]
  },
  {
   "cell_type": "code",
   "execution_count": null,
   "id": "439a523b-177b-486d-88f2-1d478a32ac15",
   "metadata": {},
   "outputs": [],
   "source": []
  }
 ],
 "metadata": {
  "kernelspec": {
   "display_name": "tensor2",
   "language": "python",
   "name": "tensor2"
  },
  "language_info": {
   "codemirror_mode": {
    "name": "ipython",
    "version": 3
   },
   "file_extension": ".py",
   "mimetype": "text/x-python",
   "name": "python",
   "nbconvert_exporter": "python",
   "pygments_lexer": "ipython3",
   "version": "3.8.15"
  }
 },
 "nbformat": 4,
 "nbformat_minor": 5
}
